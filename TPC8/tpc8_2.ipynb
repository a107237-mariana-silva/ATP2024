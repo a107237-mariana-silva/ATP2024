{
 "cells": [
  {
   "cell_type": "markdown",
   "metadata": {},
   "source": [
    "### tpc-2. À semelhança do que foi feito nas aulas, realize as seguintes tarefas:"
   ]
  },
  {
   "cell_type": "markdown",
   "metadata": {},
   "source": [
    "#### a) Especifique uma função que dada uma string e uma substring não vazia, calcula  o número de vezes em que a substring aparece na string, sem que haja sobreposição de substrings:"
   ]
  },
  {
   "cell_type": "code",
   "execution_count": null,
   "metadata": {},
   "outputs": [],
   "source": [
    "def strCount(s, subs):\n",
    "    res = 0\n",
    "    i = 0\n",
    "    while i + len(subs) <= len(s):\n",
    "        if s[i:(i+len(subs))] == subs:\n",
    "            res = res + 1\n",
    "        i = i + 1\n",
    "    return res\n",
    "\n",
    "print(strCount(\"catcowcat\", \"cat\"))\n",
    "print(strCount(\"catcowcat\", \"cow\"))\n",
    "print(strCount(\"catcowcat\", \"dog\"))"
   ]
  },
  {
   "cell_type": "markdown",
   "metadata": {},
   "source": [
    "#### b) Especifique uma função que recebe uma lista de números inteiros positivos e devolve o menor produto que for possível calcular multiplicando os 3 menores inteiros da lista:"
   ]
  },
  {
   "cell_type": "code",
   "execution_count": null,
   "metadata": {},
   "outputs": [],
   "source": [
    "lista = [12,3,7,10,12,8,9]\n",
    "\n",
    "def produtoM3(lista):\n",
    "    numeros = []\n",
    "    a = 1\n",
    "    while a <= 3:\n",
    "        menor = lista[0]\n",
    "        for num in lista[1:]:\n",
    "            if num < menor:\n",
    "                menor = num\n",
    "        numeros.append(menor)\n",
    "        lista.remove(menor)\n",
    "        a = a + 1\n",
    "    return numeros[0] * numeros[1] * numeros[2]\n",
    "\n",
    "print(produtoM3(lista))"
   ]
  },
  {
   "cell_type": "markdown",
   "metadata": {},
   "source": [
    "#### c) Especifique uma função que dado um número inteiro positivo, repetidamente adiciona os seus dígitos até obter apenas um dígito que é retornado como resultado:"
   ]
  },
  {
   "cell_type": "code",
   "execution_count": null,
   "metadata": {},
   "outputs": [],
   "source": [
    "def reduxInt(n):\n",
    "    res1 = str(n)\n",
    "    a = 0\n",
    "    soma1 = 0\n",
    "    while a < len(res1):\n",
    "        soma1 = soma1 + int(res1[a])\n",
    "        a = a + 1\n",
    "    res2 = str(soma1)\n",
    "    b = 0\n",
    "    soma2 = 0\n",
    "    while b < len(res2):\n",
    "        soma2 = soma2 + int(res2[b])\n",
    "        b = b + 1\n",
    "    return soma2\n",
    "\n",
    "print(reduxInt(38))\n",
    "print(reduxInt(777))"
   ]
  },
  {
   "cell_type": "markdown",
   "metadata": {},
   "source": [
    "#### d) Especifique uma função que recebe duas strings, `string1` e `string2`, e devolve o índice da primeira ocorrência de `string2` em `string1`, caso não ocorra nenhuma vez a função deverá retornar `-1`:"
   ]
  },
  {
   "cell_type": "code",
   "execution_count": null,
   "metadata": {},
   "outputs": [],
   "source": [
    "def myIndexOf(s1, s2):\n",
    "    res = -1\n",
    "    if s2 in s1:\n",
    "        res = s1.index(s2)\n",
    "    return res\n",
    "\n",
    "print(myIndexOf(\"Hoje está um belo dia de sol!\", \"belo\"))\n",
    "print(myIndexOf(\"Hoje está um belo dia de sol!\", \"chuva\"))"
   ]
  }
 ],
 "metadata": {
  "kernelspec": {
   "display_name": "Python 3",
   "language": "python",
   "name": "python3"
  },
  "language_info": {
   "codemirror_mode": {
    "name": "ipython",
    "version": 3
   },
   "file_extension": ".py",
   "mimetype": "text/x-python",
   "name": "python",
   "nbconvert_exporter": "python",
   "pygments_lexer": "ipython3",
   "version": "3.12.6"
  }
 },
 "nbformat": 4,
 "nbformat_minor": 2
}
