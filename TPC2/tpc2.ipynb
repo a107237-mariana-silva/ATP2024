{
 "cells": [
  {
   "cell_type": "markdown",
   "metadata": {},
   "source": [
    "# Tenta Adivinhar o Numero\n",
    "\n",
    "Crie um programa em Python para jogar o jogo \"Adivinha o número\":\n",
    "* O jogo pode ter 2 modalidades: computador pensa num número (entre 0 e 100), utilizador tenta adivinhar; ou, o utilizador pensa num número (entre 0 e 100) e o computador tenta adivinhar;\n",
    "* Quem tenta adivinhar responde com uma das afirmações: \"Acertou\", \"O número que pensei é Maior\" ou \"O número que pensei é Menor\";\n",
    "* Uma vez descoberto o número o programa deverá terminar imprimindo o número de tentativas que quem adivinhou usou para chegar ao resultado."
   ]
  },
  {
   "cell_type": "code",
   "execution_count": null,
   "metadata": {},
   "outputs": [],
   "source": [
    "# Utilizador pensa num numero e o computador tenta adivinhar:\n",
    "\n",
    "print(\"Escolha um numero inteiro entre 0 e 100 exclusive e eu vou tentar adivinhar qual é.\")\n",
    "print(\"Por favor, responda somente com: Acertou, O numero que pensei é maior ou O numero que pensei é menor.\")\n",
    "menor = 0\n",
    "maior = 100\n",
    "tentativas = 0\n",
    "\n",
    "while menor < maior:\n",
    "    x = (menor + maior)//2\n",
    "    tentativas = tentativas + 1\n",
    "    print(f\"O seu numero é:{x}\")\n",
    "    resposta = input(\"Tenho razão?\")\n",
    "    if resposta == \"O numero que pensei é maior\":\n",
    "        menor = x\n",
    "    elif resposta == \"O numero que pensei é menor\":\n",
    "        maior = x\n",
    "    elif resposta == \"Acertou\":\n",
    "        menor = maior\n",
    "        print(f\"Então eu acertei em {tentativas} tentativas.\")\n",
    "    else:\n",
    "        print(\"Por favor, responda com: Acertou, O numero que pensei é maior ou O numero que pensei é menor.\")\n",
    "        tentativas = tentativas - 1\n",
    "        "
   ]
  }
 ],
 "metadata": {
  "kernelspec": {
   "display_name": "Python 3",
   "language": "python",
   "name": "python3"
  },
  "language_info": {
   "codemirror_mode": {
    "name": "ipython",
    "version": 3
   },
   "file_extension": ".py",
   "mimetype": "text/x-python",
   "name": "python",
   "nbconvert_exporter": "python",
   "pygments_lexer": "ipython3",
   "version": "3.12.6"
  }
 },
 "nbformat": 4,
 "nbformat_minor": 2
}
